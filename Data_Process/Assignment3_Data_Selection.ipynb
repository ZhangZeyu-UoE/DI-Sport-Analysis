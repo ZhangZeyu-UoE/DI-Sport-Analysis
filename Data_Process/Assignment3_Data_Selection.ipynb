{
 "cells": [
  {
   "cell_type": "code",
   "execution_count": 1,
   "metadata": {},
   "outputs": [],
   "source": [
    "# Necessary import\n",
    "import csv\n",
    "import pandas as pd\n",
    "import numpy as np\n",
    "import matplotlib.pyplot as plt\n",
    "import seaborn as sns\n",
    "import re\n",
    "%matplotlib inline"
   ]
  },
  {
   "cell_type": "code",
   "execution_count": 2,
   "metadata": {},
   "outputs": [],
   "source": [
    "# load data from .csv files\n",
    "person = pd.read_csv('person.csv')\n",
    "membership = pd.read_csv('membership.csv')\n",
    "stat = pd.read_csv('stat.csv')"
   ]
  },
  {
   "cell_type": "code",
   "execution_count": 27,
   "metadata": {},
   "outputs": [
    {
     "data": {
      "text/html": [
       "<div>\n",
       "<style scoped>\n",
       "    .dataframe tbody tr th:only-of-type {\n",
       "        vertical-align: middle;\n",
       "    }\n",
       "\n",
       "    .dataframe tbody tr th {\n",
       "        vertical-align: top;\n",
       "    }\n",
       "\n",
       "    .dataframe thead th {\n",
       "        text-align: right;\n",
       "    }\n",
       "</style>\n",
       "<table border=\"1\" class=\"dataframe\">\n",
       "  <thead>\n",
       "    <tr style=\"text-align: right;\">\n",
       "      <th></th>\n",
       "      <th>id</th>\n",
       "      <th>firstName</th>\n",
       "      <th>lastName</th>\n",
       "      <th>matchName</th>\n",
       "      <th>type</th>\n",
       "      <th>position</th>\n",
       "      <th>lastUpdated</th>\n",
       "      <th>nationality</th>\n",
       "      <th>nationalityId</th>\n",
       "      <th>dateOfBirth</th>\n",
       "      <th>placeOfBirth</th>\n",
       "      <th>countryOfBirthId</th>\n",
       "      <th>countryOfBirth</th>\n",
       "      <th>height</th>\n",
       "      <th>weight</th>\n",
       "      <th>gender</th>\n",
       "      <th>status</th>\n",
       "      <th>foot</th>\n",
       "      <th>age</th>\n",
       "      <th>lastUpdated_year</th>\n",
       "    </tr>\n",
       "  </thead>\n",
       "  <tbody>\n",
       "    <tr>\n",
       "      <th>0</th>\n",
       "      <td>dkh5rfgsoiovvuackx9o5svrp</td>\n",
       "      <td>Dawid</td>\n",
       "      <td>Smug</td>\n",
       "      <td>D. Smug</td>\n",
       "      <td>player</td>\n",
       "      <td>Goalkeeper</td>\n",
       "      <td>2018-11-17 18:58:14+00:00</td>\n",
       "      <td>Poland</td>\n",
       "      <td>27baqb7359ywdvsxxklx1kn11</td>\n",
       "      <td>1994-01-14</td>\n",
       "      <td>Konin</td>\n",
       "      <td>27baqb7359ywdvsxxklx1kn11</td>\n",
       "      <td>Poland</td>\n",
       "      <td>194.0</td>\n",
       "      <td>85.0</td>\n",
       "      <td>Male</td>\n",
       "      <td>active</td>\n",
       "      <td>NaN</td>\n",
       "      <td>26.0</td>\n",
       "      <td>2018</td>\n",
       "    </tr>\n",
       "    <tr>\n",
       "      <th>1</th>\n",
       "      <td>2m1fi26tv277k17l9v89uux1x</td>\n",
       "      <td>Sadiq</td>\n",
       "      <td>Quliyev</td>\n",
       "      <td>S. Quliyev</td>\n",
       "      <td>player</td>\n",
       "      <td>Defender</td>\n",
       "      <td>2018-12-09 12:31:37+00:00</td>\n",
       "      <td>Azerbaijan</td>\n",
       "      <td>52sufqqq7vid3xa6iljx6obcz</td>\n",
       "      <td>1995-03-09</td>\n",
       "      <td>NaN</td>\n",
       "      <td>52sufqqq7vid3xa6iljx6obcz</td>\n",
       "      <td>Azerbaijan</td>\n",
       "      <td>NaN</td>\n",
       "      <td>NaN</td>\n",
       "      <td>Male</td>\n",
       "      <td>active</td>\n",
       "      <td>NaN</td>\n",
       "      <td>25.0</td>\n",
       "      <td>2018</td>\n",
       "    </tr>\n",
       "    <tr>\n",
       "      <th>2</th>\n",
       "      <td>5ojtb45gyd00i0chyku6btuxh</td>\n",
       "      <td>Jaime José</td>\n",
       "      <td>Moreno Ciorciari</td>\n",
       "      <td>J. Moreno</td>\n",
       "      <td>player</td>\n",
       "      <td>Attacker</td>\n",
       "      <td>2018-12-10 05:46:18+00:00</td>\n",
       "      <td>Nicaragua</td>\n",
       "      <td>4of7fctqcqbj3rai95vd4jk26</td>\n",
       "      <td>1995-03-30</td>\n",
       "      <td>Puerto La Cruz</td>\n",
       "      <td>1er0616j12s9yghuzvsx76d5v</td>\n",
       "      <td>Venezuela</td>\n",
       "      <td>183.0</td>\n",
       "      <td>82.0</td>\n",
       "      <td>Male</td>\n",
       "      <td>active</td>\n",
       "      <td>NaN</td>\n",
       "      <td>25.0</td>\n",
       "      <td>2018</td>\n",
       "    </tr>\n",
       "    <tr>\n",
       "      <th>3</th>\n",
       "      <td>2w0vvlgz7ib4f2dvkinycj55h</td>\n",
       "      <td>Leandro</td>\n",
       "      <td>Leite Mateus</td>\n",
       "      <td>Leandro Leite</td>\n",
       "      <td>player</td>\n",
       "      <td>Midfielder</td>\n",
       "      <td>2018-11-24 20:01:10+00:00</td>\n",
       "      <td>Brazil</td>\n",
       "      <td>2vufyvpoxd9lfl9f6vpp7tz6y</td>\n",
       "      <td>1982-12-27</td>\n",
       "      <td>Piracanjuba</td>\n",
       "      <td>2vufyvpoxd9lfl9f6vpp7tz6y</td>\n",
       "      <td>Brazil</td>\n",
       "      <td>181.0</td>\n",
       "      <td>75.0</td>\n",
       "      <td>Male</td>\n",
       "      <td>active</td>\n",
       "      <td>right</td>\n",
       "      <td>38.0</td>\n",
       "      <td>2018</td>\n",
       "    </tr>\n",
       "    <tr>\n",
       "      <th>4</th>\n",
       "      <td>eyas8ovmtmcmkilzd9lox4hxx</td>\n",
       "      <td>Sergey</td>\n",
       "      <td>Balanovich</td>\n",
       "      <td>S. Balanovich</td>\n",
       "      <td>player</td>\n",
       "      <td>Midfielder</td>\n",
       "      <td>2018-12-02 15:31:47+00:00</td>\n",
       "      <td>Belarus</td>\n",
       "      <td>2vn7xzv9g752y1h5ufjzr27i8</td>\n",
       "      <td>1987-08-29</td>\n",
       "      <td>Pinsk</td>\n",
       "      <td>2vn7xzv9g752y1h5ufjzr27i8</td>\n",
       "      <td>Belarus</td>\n",
       "      <td>176.0</td>\n",
       "      <td>70.0</td>\n",
       "      <td>Male</td>\n",
       "      <td>active</td>\n",
       "      <td>right</td>\n",
       "      <td>33.0</td>\n",
       "      <td>2018</td>\n",
       "    </tr>\n",
       "  </tbody>\n",
       "</table>\n",
       "</div>"
      ],
      "text/plain": [
       "                          id   firstName          lastName      matchName  \\\n",
       "0  dkh5rfgsoiovvuackx9o5svrp       Dawid              Smug        D. Smug   \n",
       "1  2m1fi26tv277k17l9v89uux1x       Sadiq           Quliyev     S. Quliyev   \n",
       "2  5ojtb45gyd00i0chyku6btuxh  Jaime José  Moreno Ciorciari      J. Moreno   \n",
       "3  2w0vvlgz7ib4f2dvkinycj55h     Leandro      Leite Mateus  Leandro Leite   \n",
       "4  eyas8ovmtmcmkilzd9lox4hxx      Sergey        Balanovich  S. Balanovich   \n",
       "\n",
       "     type    position               lastUpdated nationality  \\\n",
       "0  player  Goalkeeper 2018-11-17 18:58:14+00:00      Poland   \n",
       "1  player    Defender 2018-12-09 12:31:37+00:00  Azerbaijan   \n",
       "2  player    Attacker 2018-12-10 05:46:18+00:00   Nicaragua   \n",
       "3  player  Midfielder 2018-11-24 20:01:10+00:00      Brazil   \n",
       "4  player  Midfielder 2018-12-02 15:31:47+00:00     Belarus   \n",
       "\n",
       "               nationalityId dateOfBirth    placeOfBirth  \\\n",
       "0  27baqb7359ywdvsxxklx1kn11  1994-01-14           Konin   \n",
       "1  52sufqqq7vid3xa6iljx6obcz  1995-03-09             NaN   \n",
       "2  4of7fctqcqbj3rai95vd4jk26  1995-03-30  Puerto La Cruz   \n",
       "3  2vufyvpoxd9lfl9f6vpp7tz6y  1982-12-27     Piracanjuba   \n",
       "4  2vn7xzv9g752y1h5ufjzr27i8  1987-08-29           Pinsk   \n",
       "\n",
       "            countryOfBirthId countryOfBirth  height  weight gender  status  \\\n",
       "0  27baqb7359ywdvsxxklx1kn11         Poland   194.0    85.0   Male  active   \n",
       "1  52sufqqq7vid3xa6iljx6obcz     Azerbaijan     NaN     NaN   Male  active   \n",
       "2  1er0616j12s9yghuzvsx76d5v      Venezuela   183.0    82.0   Male  active   \n",
       "3  2vufyvpoxd9lfl9f6vpp7tz6y         Brazil   181.0    75.0   Male  active   \n",
       "4  2vn7xzv9g752y1h5ufjzr27i8        Belarus   176.0    70.0   Male  active   \n",
       "\n",
       "    foot   age  lastUpdated_year  \n",
       "0    NaN  26.0              2018  \n",
       "1    NaN  25.0              2018  \n",
       "2    NaN  25.0              2018  \n",
       "3  right  38.0              2018  \n",
       "4  right  33.0              2018  "
      ]
     },
     "execution_count": 27,
     "metadata": {},
     "output_type": "execute_result"
    }
   ],
   "source": [
    "person.head()"
   ]
  },
  {
   "cell_type": "code",
   "execution_count": 56,
   "metadata": {},
   "outputs": [
    {
     "data": {
      "text/html": [
       "<div>\n",
       "<style scoped>\n",
       "    .dataframe tbody tr th:only-of-type {\n",
       "        vertical-align: middle;\n",
       "    }\n",
       "\n",
       "    .dataframe tbody tr th {\n",
       "        vertical-align: top;\n",
       "    }\n",
       "\n",
       "    .dataframe thead th {\n",
       "        text-align: right;\n",
       "    }\n",
       "</style>\n",
       "<table border=\"1\" class=\"dataframe\">\n",
       "  <thead>\n",
       "    <tr style=\"text-align: right;\">\n",
       "      <th></th>\n",
       "      <th>id</th>\n",
       "      <th>contestantId</th>\n",
       "      <th>contestantType</th>\n",
       "      <th>contestantName</th>\n",
       "      <th>active</th>\n",
       "      <th>startDate</th>\n",
       "      <th>endDate</th>\n",
       "      <th>role</th>\n",
       "      <th>type1</th>\n",
       "      <th>transferType</th>\n",
       "    </tr>\n",
       "  </thead>\n",
       "  <tbody>\n",
       "    <tr>\n",
       "      <th>2059</th>\n",
       "      <td>14jewryyd0elm65ci5puleytx</td>\n",
       "      <td>5n5baro467i8s8efkra3nhgux</td>\n",
       "      <td>club</td>\n",
       "      <td>Huddersfield Town FC</td>\n",
       "      <td>no</td>\n",
       "      <td>2015-08-27</td>\n",
       "      <td>2016-06-01</td>\n",
       "      <td>player</td>\n",
       "      <td>men</td>\n",
       "      <td>Loan</td>\n",
       "    </tr>\n",
       "    <tr>\n",
       "      <th>3675</th>\n",
       "      <td>1871917dpg5or9ldjozdn2or9</td>\n",
       "      <td>5n5baro467i8s8efkra3nhgux</td>\n",
       "      <td>club</td>\n",
       "      <td>Huddersfield Town FC</td>\n",
       "      <td>no</td>\n",
       "      <td>2016-01-08</td>\n",
       "      <td>2016-04-10</td>\n",
       "      <td>player</td>\n",
       "      <td>men</td>\n",
       "      <td>Loan</td>\n",
       "    </tr>\n",
       "    <tr>\n",
       "      <th>4578</th>\n",
       "      <td>1a8msufvkrt37kx8px3oe4lp1</td>\n",
       "      <td>5n5baro467i8s8efkra3nhgux</td>\n",
       "      <td>club</td>\n",
       "      <td>Huddersfield Town FC</td>\n",
       "      <td>no</td>\n",
       "      <td>2011-07-01</td>\n",
       "      <td>2014-06-30</td>\n",
       "      <td>player</td>\n",
       "      <td>men</td>\n",
       "      <td>Free Transfer</td>\n",
       "    </tr>\n",
       "    <tr>\n",
       "      <th>6386</th>\n",
       "      <td>1dnbshcb3l4r4i3ely6r0f26t</td>\n",
       "      <td>5n5baro467i8s8efkra3nhgux</td>\n",
       "      <td>club</td>\n",
       "      <td>Huddersfield Town FC</td>\n",
       "      <td>no</td>\n",
       "      <td>2006-07-01</td>\n",
       "      <td>2007-08-01</td>\n",
       "      <td>player</td>\n",
       "      <td>men</td>\n",
       "      <td>NaN</td>\n",
       "    </tr>\n",
       "    <tr>\n",
       "      <th>9960</th>\n",
       "      <td>1l12v8lx25ipy5obp0wcfkr11</td>\n",
       "      <td>5n5baro467i8s8efkra3nhgux</td>\n",
       "      <td>club</td>\n",
       "      <td>Huddersfield Town FC</td>\n",
       "      <td>yes</td>\n",
       "      <td>2018-01-12</td>\n",
       "      <td>2019-01-01</td>\n",
       "      <td>player</td>\n",
       "      <td>men</td>\n",
       "      <td>Transfer</td>\n",
       "    </tr>\n",
       "    <tr>\n",
       "      <th>...</th>\n",
       "      <td>...</td>\n",
       "      <td>...</td>\n",
       "      <td>...</td>\n",
       "      <td>...</td>\n",
       "      <td>...</td>\n",
       "      <td>...</td>\n",
       "      <td>...</td>\n",
       "      <td>...</td>\n",
       "      <td>...</td>\n",
       "      <td>...</td>\n",
       "    </tr>\n",
       "    <tr>\n",
       "      <th>238201</th>\n",
       "      <td>ezkzz0hfih8gq05vfvnt2kvyt</td>\n",
       "      <td>5n5baro467i8s8efkra3nhgux</td>\n",
       "      <td>club</td>\n",
       "      <td>Huddersfield Town FC</td>\n",
       "      <td>yes</td>\n",
       "      <td>2016-07-01</td>\n",
       "      <td>2019-01-01</td>\n",
       "      <td>player</td>\n",
       "      <td>men</td>\n",
       "      <td>Free Transfer</td>\n",
       "    </tr>\n",
       "    <tr>\n",
       "      <th>239733</th>\n",
       "      <td>f3eag9fqk10t41t1kp14lumz9</td>\n",
       "      <td>5n5baro467i8s8efkra3nhgux</td>\n",
       "      <td>club</td>\n",
       "      <td>Huddersfield Town FC</td>\n",
       "      <td>no</td>\n",
       "      <td>2012-09-01</td>\n",
       "      <td>2013-01-13</td>\n",
       "      <td>player</td>\n",
       "      <td>men</td>\n",
       "      <td>Loan</td>\n",
       "    </tr>\n",
       "    <tr>\n",
       "      <th>239734</th>\n",
       "      <td>f3eag9fqk10t41t1kp14lumz9</td>\n",
       "      <td>5n5baro467i8s8efkra3nhgux</td>\n",
       "      <td>club</td>\n",
       "      <td>Huddersfield Town FC</td>\n",
       "      <td>no</td>\n",
       "      <td>2013-07-01</td>\n",
       "      <td>2015-01-09</td>\n",
       "      <td>player</td>\n",
       "      <td>men</td>\n",
       "      <td>Back from Loan</td>\n",
       "    </tr>\n",
       "    <tr>\n",
       "      <th>239735</th>\n",
       "      <td>f3eag9fqk10t41t1kp14lumz9</td>\n",
       "      <td>5n5baro467i8s8efkra3nhgux</td>\n",
       "      <td>club</td>\n",
       "      <td>Huddersfield Town FC</td>\n",
       "      <td>no</td>\n",
       "      <td>2015-07-01</td>\n",
       "      <td>2015-08-31</td>\n",
       "      <td>player</td>\n",
       "      <td>men</td>\n",
       "      <td>Back from Loan</td>\n",
       "    </tr>\n",
       "    <tr>\n",
       "      <th>250239</th>\n",
       "      <td>zn7glrv7emob0izuyo0me4lx</td>\n",
       "      <td>5n5baro467i8s8efkra3nhgux</td>\n",
       "      <td>club</td>\n",
       "      <td>Huddersfield Town FC</td>\n",
       "      <td>no</td>\n",
       "      <td>2015-09-09</td>\n",
       "      <td>2015-10-07</td>\n",
       "      <td>player</td>\n",
       "      <td>men</td>\n",
       "      <td>Loan</td>\n",
       "    </tr>\n",
       "  </tbody>\n",
       "</table>\n",
       "<p>225 rows × 10 columns</p>\n",
       "</div>"
      ],
      "text/plain": [
       "                               id               contestantId contestantType  \\\n",
       "2059    14jewryyd0elm65ci5puleytx  5n5baro467i8s8efkra3nhgux           club   \n",
       "3675    1871917dpg5or9ldjozdn2or9  5n5baro467i8s8efkra3nhgux           club   \n",
       "4578    1a8msufvkrt37kx8px3oe4lp1  5n5baro467i8s8efkra3nhgux           club   \n",
       "6386    1dnbshcb3l4r4i3ely6r0f26t  5n5baro467i8s8efkra3nhgux           club   \n",
       "9960    1l12v8lx25ipy5obp0wcfkr11  5n5baro467i8s8efkra3nhgux           club   \n",
       "...                           ...                        ...            ...   \n",
       "238201  ezkzz0hfih8gq05vfvnt2kvyt  5n5baro467i8s8efkra3nhgux           club   \n",
       "239733  f3eag9fqk10t41t1kp14lumz9  5n5baro467i8s8efkra3nhgux           club   \n",
       "239734  f3eag9fqk10t41t1kp14lumz9  5n5baro467i8s8efkra3nhgux           club   \n",
       "239735  f3eag9fqk10t41t1kp14lumz9  5n5baro467i8s8efkra3nhgux           club   \n",
       "250239   zn7glrv7emob0izuyo0me4lx  5n5baro467i8s8efkra3nhgux           club   \n",
       "\n",
       "              contestantName active  startDate    endDate    role type1  \\\n",
       "2059    Huddersfield Town FC     no 2015-08-27 2016-06-01  player   men   \n",
       "3675    Huddersfield Town FC     no 2016-01-08 2016-04-10  player   men   \n",
       "4578    Huddersfield Town FC     no 2011-07-01 2014-06-30  player   men   \n",
       "6386    Huddersfield Town FC     no 2006-07-01 2007-08-01  player   men   \n",
       "9960    Huddersfield Town FC    yes 2018-01-12 2019-01-01  player   men   \n",
       "...                      ...    ...        ...        ...     ...   ...   \n",
       "238201  Huddersfield Town FC    yes 2016-07-01 2019-01-01  player   men   \n",
       "239733  Huddersfield Town FC     no 2012-09-01 2013-01-13  player   men   \n",
       "239734  Huddersfield Town FC     no 2013-07-01 2015-01-09  player   men   \n",
       "239735  Huddersfield Town FC     no 2015-07-01 2015-08-31  player   men   \n",
       "250239  Huddersfield Town FC     no 2015-09-09 2015-10-07  player   men   \n",
       "\n",
       "          transferType  \n",
       "2059              Loan  \n",
       "3675              Loan  \n",
       "4578     Free Transfer  \n",
       "6386               NaN  \n",
       "9960          Transfer  \n",
       "...                ...  \n",
       "238201   Free Transfer  \n",
       "239733            Loan  \n",
       "239734  Back from Loan  \n",
       "239735  Back from Loan  \n",
       "250239            Loan  \n",
       "\n",
       "[225 rows x 10 columns]"
      ]
     },
     "execution_count": 56,
     "metadata": {},
     "output_type": "execute_result"
    }
   ],
   "source": [
    "person.loc[person['dateOfBirth'] == '1986-4-10']\n",
    "membership.loc[membership['contestantName'] == 'Huddersfield Town FC']"
   ]
  },
  {
   "cell_type": "markdown",
   "metadata": {},
   "source": [
    "# Clean person.csv"
   ]
  },
  {
   "cell_type": "code",
   "execution_count": 3,
   "metadata": {},
   "outputs": [
    {
     "name": "stdout",
     "output_type": "stream",
     "text": [
      "The number of remaining rows is 44201\n",
      "The duplicates are dropped, the shape afterward is (44200, 18).\n"
     ]
    }
   ],
   "source": [
    "person = person.loc[person['type'] == 'player']\n",
    "print('The number of remaining rows is {}'.format(person.shape[0]))\n",
    "person = person.drop_duplicates()\n",
    "print('The duplicates are dropped, the shape afterward is {}.'.format(person.shape))"
   ]
  },
  {
   "cell_type": "code",
   "execution_count": 4,
   "metadata": {},
   "outputs": [],
   "source": [
    "person['dateOfBirth'] = pd.to_datetime(person['dateOfBirth'])\n",
    "person['lastUpdated'] = pd.to_datetime(person['lastUpdated'])\n",
    "# person.head()"
   ]
  },
  {
   "cell_type": "code",
   "execution_count": 5,
   "metadata": {},
   "outputs": [
    {
     "data": {
      "text/plain": [
       "Text(0.5, 1.0, 'Ages Distribution')"
      ]
     },
     "execution_count": 5,
     "metadata": {},
     "output_type": "execute_result"
    },
    {
     "data": {
      "image/png": "[encoded data removed]",
      "text/plain": [
       "<Figure size 432x288 with 1 Axes>"
      ]
     },
     "metadata": {
      "needs_background": "light"
     },
     "output_type": "display_data"
    }
   ],
   "source": [
    "# add a column about the ages.\n",
    "person['age'] = 2020 - person['dateOfBirth'].dt.year\n",
    "\n",
    "# add a column about the year of late update.\n",
    "person['lastUpdated_year'] = person['lastUpdated'].dt.year\n",
    "\n",
    "# distplot of ages\n",
    "chart = sns.distplot(person['age'])\n",
    "chart.set_title('Ages Distribution')\n",
    "\n",
    "# person.describe()"
   ]
  },
  {
   "cell_type": "markdown",
   "metadata": {},
   "source": [
    "# Clean membership.csv"
   ]
  },
  {
   "cell_type": "code",
   "execution_count": 6,
   "metadata": {},
   "outputs": [
    {
     "name": "stdout",
     "output_type": "stream",
     "text": [
      "The shape afterward is (250305, 10).\n"
     ]
    }
   ],
   "source": [
    "membership = membership.drop_duplicates()\n",
    "membership = membership.loc[membership['role']=='player']\n",
    "print('The shape afterward is {}.'.format(membership.shape))"
   ]
  },
  {
   "cell_type": "code",
   "execution_count": 7,
   "metadata": {},
   "outputs": [
    {
     "name": "stdout",
     "output_type": "stream",
     "text": [
      "There are 247915 rows left\n"
     ]
    }
   ],
   "source": [
    "membership.loc[membership['active']=='yes', 'endDate'] = '2019-1-1'\n",
    "membership = membership.dropna(subset = ['endDate']) # drop nan data\n",
    "print('There are {} rows left'.format(membership.shape[0]))\n",
    "# membership.head()"
   ]
  },
  {
   "cell_type": "code",
   "execution_count": 8,
   "metadata": {},
   "outputs": [],
   "source": [
    "#membership.loc[membership['endDate']=='201-05-04']\n",
    "membership.loc[membership['startDate']=='0201-05-04', 'startDate'] = '2010-05-04'\n",
    "membership.loc[membership['startDate']=='0011-01-01', 'startDate'] = '2011-01-01'\n",
    "\n",
    "membership.loc[membership['endDate']=='0010-12-30', 'endDate'] = '2010-12-30'\n",
    "membership.loc[membership['endDate']=='0201-04-15', 'endDate'] = '2010-04-15'\n",
    "membership.loc[membership['endDate']=='0204-08-01', 'endDate'] = '2004-08-01'\n",
    "\n",
    "membership['startDate'] = pd.to_datetime(membership['startDate'])\n",
    "membership['endDate'] = pd.to_datetime(membership['endDate'])\n",
    "# membership.head()"
   ]
  },
  {
   "cell_type": "markdown",
   "metadata": {},
   "source": [
    "# Clean stat.csv"
   ]
  },
  {
   "cell_type": "code",
   "execution_count": 9,
   "metadata": {},
   "outputs": [
    {
     "name": "stdout",
     "output_type": "stream",
     "text": [
      "The shape afterward is (750230, 19).\n"
     ]
    }
   ],
   "source": [
    "stat = stat.drop_duplicates()\n",
    "print('The shape afterward is {}.'.format(stat.shape))"
   ]
  },
  {
   "cell_type": "code",
   "execution_count": 10,
   "metadata": {},
   "outputs": [],
   "source": [
    "stat.loc[stat['penaltyGoals'] == 58, 'penaltyGoals'] = 0"
   ]
  },
  {
   "cell_type": "code",
   "execution_count": 11,
   "metadata": {},
   "outputs": [],
   "source": [
    "stat.loc[stat['minutesPlayed'] < 0, 'minutesPlayed'] =  abs(stat['minutesPlayed'])"
   ]
  },
  {
   "cell_type": "markdown",
   "metadata": {},
   "source": [
    "# Select Data"
   ]
  },
  {
   "cell_type": "code",
   "execution_count": 63,
   "metadata": {},
   "outputs": [],
   "source": [
    "#!/user/local/bin/python2.7\n",
    "# -*- coding:utf-8 -*-\n",
    "import os\n",
    "def mkdir(path):\n",
    "    # remove space\n",
    "    path=path.replace(' ','')\n",
    "    # remove \\\\\n",
    "    path=path.rstrip(\"\\\\\")\n",
    "    # check if path exists\n",
    "    isExists=os.path.exists(path)\n",
    "    \n",
    "    if not isExists:\n",
    "        # if does not exist, create the folder\n",
    "        '''\n",
    "        os.mkdir(path)与os.makedirs(path)的区别是,当父目录不存在的时候os.mkdir(path)不会创建，os.makedirs(path)则会创建父目录\n",
    "        '''\n",
    "        #coding as utf-8\n",
    "        os.makedirs(path) \n",
    "        print (path+'is successfully created')\n",
    "        return True\n",
    "    else:\n",
    "        # if exists, create nothing\n",
    "        print (path+' already exists')\n",
    "        return False"
   ]
  },
  {
   "cell_type": "code",
   "execution_count": 64,
   "metadata": {},
   "outputs": [],
   "source": [
    "def team_select(team, season):\n",
    "    year = int(season[0:4])\n",
    "    \n",
    "    # select membership\n",
    "    membership_team = membership.loc[(membership['contestantName'] == team)&((membership['startDate'].dt.year <= year)&(membership['endDate'].dt.year > year))]\n",
    "    \n",
    "    # select players\n",
    "    person_team = person.loc[person['id'].isin(membership_team['id'])]\n",
    "    \n",
    "    # adjust player ages for the selected season\n",
    "    person_team['age'] = person_team['age'] - (2020 - int(season[5:9]))\n",
    "    \n",
    "    # select stats\n",
    "    stat_team = stat.loc[(stat['id'].isin(membership_team['id'])) & ((stat['tournamentCalendarName'] == season)|(stat['tournamentCalendarName'] == season[5:9]))&(stat['isFriendly'] == 'no')]\n",
    "    \n",
    "    # set minutes played for team members\n",
    "    person_team['minutesPlayed'] = person_team.id.apply(lambda x: np.sum(stat_team.loc[stat_team['id'] == x]['minutesPlayed']))\n",
    "    \n",
    "    # select 16 players (at most)\n",
    "    time_sort = np.sort(person_team['minutesPlayed'])\n",
    "    time_sort = time_sort[::-1]\n",
    "    if time_sort.shape[0] >= 16:\n",
    "        team_size = 16\n",
    "    else:\n",
    "        team_size = time_sort.shape[0]\n",
    "\n",
    "    person_team = person_team.loc[person_team['minutesPlayed'] >= time_sort[team_size-1]]\n",
    "    \n",
    "    # sort players by nationality\n",
    "    group_nation = person_team.groupby('nationality')\n",
    "    p = pd.DataFrame()\n",
    "    for group_name, group_df in group_nation:\n",
    "        p = pd.concat([p,group_df])\n",
    "    person_team = p\n",
    "    \n",
    "    # update membership and stat\n",
    "    membership_team = membership.loc[membership['id'].isin(person_team['id'])]\n",
    "    stat_team = stat_team.loc[stat_team['id'].isin(person_team['id'])]\n",
    "    \n",
    "    # select all the club memberships\n",
    "    membership_team = membership_team.loc[membership_team['contestantType'] == 'club']\n",
    "    \n",
    "    return membership_team, person_team, stat_team"
   ]
  },
  {
   "cell_type": "code",
   "execution_count": 65,
   "metadata": {},
   "outputs": [],
   "source": [
    "def career_search(person, membership, season):\n",
    "    seasons = [season]\n",
    "    for i in range(1,10):\n",
    "        year = int(season[5:9])-i\n",
    "        s = str(year-1) + '/' + str(year)\n",
    "        seasons.append(s)\n",
    "    seasons = seasons[::-1]\n",
    "    print('The seasons are from {} to {}'.format(seasons[0], seasons[9]))\n",
    "    \n",
    "    # filter membership\n",
    "    start = int(seasons[0][0:4])\n",
    "    end = int(seasons[9][5:9])\n",
    "    membership = membership.loc[((membership['startDate'].dt.year >= start)&(membership['startDate'].dt.year <= end))|((membership['endDate'].dt.year >= start)&(membership['endDate'].dt.year <= end))]\n",
    "    # print(membership['contestantName'].unique())\n",
    "    \n",
    "    col = np.append(['matchName'],seasons)\n",
    "    career_paths = pd.DataFrame(columns = col) \n",
    "    team_names = []\n",
    "    for i in person['id'].values:\n",
    "        career = {'matchName': person.loc[person['id'] == i]['matchName'].values[0]}\n",
    "        for s in seasons:\n",
    "            year = int(s[0:4])\n",
    "            m = membership.loc[(membership['id'] == i) & ((membership['startDate'].dt.year <= year) & (membership['endDate'].dt.year > year))]\n",
    "            # print(m)\n",
    "            m_name = m['contestantName'].values\n",
    "            m_type = m['transferType'].values\n",
    "            \n",
    "            if m_name.shape[0]>1:\n",
    "                m_name = m_name[0:1]\n",
    "                \n",
    "            if m_type.shape[0]>1:\n",
    "                m_type = m_type[0:1]\n",
    "                \n",
    "            if m_name.shape[0]>=1:\n",
    "                team_names.append(m_name[0])\n",
    "            # print(m_name, m_type)\n",
    "            if len(m_name) == 0:\n",
    "                career[s] = '/'\n",
    "            else:\n",
    "                career[s] = str(m_name[0]) + ' (' + str(m_type[0]) + ')'\n",
    "        career_paths = career_paths.append(career,ignore_index=True)\n",
    "        # print(career)\n",
    "        \n",
    "    # transfer team_names into Series    \n",
    "    # print(team_names)\n",
    "    team_names = pd.Series(pd.Series(team_names).unique())\n",
    "    return career_paths, team_names"
   ]
  },
  {
   "cell_type": "code",
   "execution_count": 66,
   "metadata": {},
   "outputs": [
    {
     "name": "stdout",
     "output_type": "stream",
     "text": [
      "Selecting data about Manchester City FC in season 2018/2019 ...\n"
     ]
    },
    {
     "name": "stderr",
     "output_type": "stream",
     "text": [
      "/opt/conda/lib/python3.7/site-packages/ipykernel_launcher.py:11: SettingWithCopyWarning: \n",
      "A value is trying to be set on a copy of a slice from a DataFrame.\n",
      "Try using .loc[row_indexer,col_indexer] = value instead\n",
      "\n",
      "See the caveats in the documentation: https://pandas.pydata.org/pandas-docs/stable/user_guide/indexing.html#returning-a-view-versus-a-copy\n",
      "  # This is added back by InteractiveShellApp.init_path()\n",
      "/opt/conda/lib/python3.7/site-packages/ipykernel_launcher.py:17: SettingWithCopyWarning: \n",
      "A value is trying to be set on a copy of a slice from a DataFrame.\n",
      "Try using .loc[row_indexer,col_indexer] = value instead\n",
      "\n",
      "See the caveats in the documentation: https://pandas.pydata.org/pandas-docs/stable/user_guide/indexing.html#returning-a-view-versus-a-copy\n"
     ]
    },
    {
     "name": "stdout",
     "output_type": "stream",
     "text": [
      "The seasons are from 2009/2010 to 2018/2019\n",
      "Data_Selection/ManchesterCityFC_2019is successfully created\n",
      "Data is successfully sorted out\n",
      "\n",
      "\n",
      "Selecting data about Liverpool FC in season 2018/2019 ...\n"
     ]
    },
    {
     "name": "stderr",
     "output_type": "stream",
     "text": [
      "/opt/conda/lib/python3.7/site-packages/ipykernel_launcher.py:11: SettingWithCopyWarning: \n",
      "A value is trying to be set on a copy of a slice from a DataFrame.\n",
      "Try using .loc[row_indexer,col_indexer] = value instead\n",
      "\n",
      "See the caveats in the documentation: https://pandas.pydata.org/pandas-docs/stable/user_guide/indexing.html#returning-a-view-versus-a-copy\n",
      "  # This is added back by InteractiveShellApp.init_path()\n",
      "/opt/conda/lib/python3.7/site-packages/ipykernel_launcher.py:17: SettingWithCopyWarning: \n",
      "A value is trying to be set on a copy of a slice from a DataFrame.\n",
      "Try using .loc[row_indexer,col_indexer] = value instead\n",
      "\n",
      "See the caveats in the documentation: https://pandas.pydata.org/pandas-docs/stable/user_guide/indexing.html#returning-a-view-versus-a-copy\n"
     ]
    },
    {
     "name": "stdout",
     "output_type": "stream",
     "text": [
      "The seasons are from 2009/2010 to 2018/2019\n",
      "Data_Selection/LiverpoolFC_2019is successfully created\n",
      "Data is successfully sorted out\n",
      "\n",
      "\n",
      "Selecting data about Chelsea FC in season 2018/2019 ...\n"
     ]
    },
    {
     "name": "stderr",
     "output_type": "stream",
     "text": [
      "/opt/conda/lib/python3.7/site-packages/ipykernel_launcher.py:11: SettingWithCopyWarning: \n",
      "A value is trying to be set on a copy of a slice from a DataFrame.\n",
      "Try using .loc[row_indexer,col_indexer] = value instead\n",
      "\n",
      "See the caveats in the documentation: https://pandas.pydata.org/pandas-docs/stable/user_guide/indexing.html#returning-a-view-versus-a-copy\n",
      "  # This is added back by InteractiveShellApp.init_path()\n",
      "/opt/conda/lib/python3.7/site-packages/ipykernel_launcher.py:17: SettingWithCopyWarning: \n",
      "A value is trying to be set on a copy of a slice from a DataFrame.\n",
      "Try using .loc[row_indexer,col_indexer] = value instead\n",
      "\n",
      "See the caveats in the documentation: https://pandas.pydata.org/pandas-docs/stable/user_guide/indexing.html#returning-a-view-versus-a-copy\n"
     ]
    },
    {
     "name": "stdout",
     "output_type": "stream",
     "text": [
      "The seasons are from 2009/2010 to 2018/2019\n",
      "Data_Selection/ChelseaFC_2019is successfully created\n",
      "Data is successfully sorted out\n",
      "\n",
      "\n",
      "Selecting data about Cardiff City FC in season 2018/2019 ...\n"
     ]
    },
    {
     "name": "stderr",
     "output_type": "stream",
     "text": [
      "/opt/conda/lib/python3.7/site-packages/ipykernel_launcher.py:11: SettingWithCopyWarning: \n",
      "A value is trying to be set on a copy of a slice from a DataFrame.\n",
      "Try using .loc[row_indexer,col_indexer] = value instead\n",
      "\n",
      "See the caveats in the documentation: https://pandas.pydata.org/pandas-docs/stable/user_guide/indexing.html#returning-a-view-versus-a-copy\n",
      "  # This is added back by InteractiveShellApp.init_path()\n",
      "/opt/conda/lib/python3.7/site-packages/ipykernel_launcher.py:17: SettingWithCopyWarning: \n",
      "A value is trying to be set on a copy of a slice from a DataFrame.\n",
      "Try using .loc[row_indexer,col_indexer] = value instead\n",
      "\n",
      "See the caveats in the documentation: https://pandas.pydata.org/pandas-docs/stable/user_guide/indexing.html#returning-a-view-versus-a-copy\n"
     ]
    },
    {
     "name": "stdout",
     "output_type": "stream",
     "text": [
      "The seasons are from 2009/2010 to 2018/2019\n",
      "Data_Selection/CardiffCityFC_2019is successfully created\n",
      "Data is successfully sorted out\n",
      "\n",
      "\n",
      "Selecting data about Fulham FC in season 2018/2019 ...\n"
     ]
    },
    {
     "name": "stderr",
     "output_type": "stream",
     "text": [
      "/opt/conda/lib/python3.7/site-packages/ipykernel_launcher.py:11: SettingWithCopyWarning: \n",
      "A value is trying to be set on a copy of a slice from a DataFrame.\n",
      "Try using .loc[row_indexer,col_indexer] = value instead\n",
      "\n",
      "See the caveats in the documentation: https://pandas.pydata.org/pandas-docs/stable/user_guide/indexing.html#returning-a-view-versus-a-copy\n",
      "  # This is added back by InteractiveShellApp.init_path()\n",
      "/opt/conda/lib/python3.7/site-packages/ipykernel_launcher.py:17: SettingWithCopyWarning: \n",
      "A value is trying to be set on a copy of a slice from a DataFrame.\n",
      "Try using .loc[row_indexer,col_indexer] = value instead\n",
      "\n",
      "See the caveats in the documentation: https://pandas.pydata.org/pandas-docs/stable/user_guide/indexing.html#returning-a-view-versus-a-copy\n"
     ]
    },
    {
     "name": "stdout",
     "output_type": "stream",
     "text": [
      "The seasons are from 2009/2010 to 2018/2019\n",
      "Data_Selection/FulhamFC_2019is successfully created\n",
      "Data is successfully sorted out\n",
      "\n",
      "\n",
      "Selecting data about Huddersfield Town FC in season 2018/2019 ...\n"
     ]
    },
    {
     "name": "stderr",
     "output_type": "stream",
     "text": [
      "/opt/conda/lib/python3.7/site-packages/ipykernel_launcher.py:11: SettingWithCopyWarning: \n",
      "A value is trying to be set on a copy of a slice from a DataFrame.\n",
      "Try using .loc[row_indexer,col_indexer] = value instead\n",
      "\n",
      "See the caveats in the documentation: https://pandas.pydata.org/pandas-docs/stable/user_guide/indexing.html#returning-a-view-versus-a-copy\n",
      "  # This is added back by InteractiveShellApp.init_path()\n",
      "/opt/conda/lib/python3.7/site-packages/ipykernel_launcher.py:17: SettingWithCopyWarning: \n",
      "A value is trying to be set on a copy of a slice from a DataFrame.\n",
      "Try using .loc[row_indexer,col_indexer] = value instead\n",
      "\n",
      "See the caveats in the documentation: https://pandas.pydata.org/pandas-docs/stable/user_guide/indexing.html#returning-a-view-versus-a-copy\n"
     ]
    },
    {
     "name": "stdout",
     "output_type": "stream",
     "text": [
      "The seasons are from 2009/2010 to 2018/2019\n",
      "Data_Selection/HuddersfieldTownFC_2019is successfully created\n",
      "Data is successfully sorted out\n",
      "\n",
      "\n"
     ]
    }
   ],
   "source": [
    "def data_select(team, season):\n",
    "    print('Selecting data about {} in season {} ...'.format(team, season))\n",
    "    membership_team, person_team, stat_team = team_select(team, season)\n",
    "    career_paths, team_names = career_search(person_team, membership_team, season)\n",
    "    \n",
    "    # output into csv files\n",
    "    folder_path = 'Data_Selection/' + team + '_' + season[5:9]\n",
    "    mkdir(folder_path)\n",
    "    \n",
    "    person_path = folder_path + '/' + \"person_\" + team + \"_\" + season[5:9] + \".csv\"\n",
    "    careerPath_path = folder_path + '/' + \"careerPath_\" + team + \"_\" + season[5:9] + \".csv\"\n",
    "    careerNames_path = folder_path + '/' + \"careerNames_\" + team + \"_\" + season[5:9] + \".csv\"\n",
    "    person_path = person_path.replace(\" \", \"\")\n",
    "    careerPath_path = careerPath_path.replace(\" \", \"\")\n",
    "    careerNames_path = careerNames_path.replace(\" \", \"\")\n",
    "    # print(person_path)\n",
    "    person_team.to_csv(person_path, index=True, sep=',')\n",
    "    career_paths.to_csv(careerPath_path, index=True, sep=',')\n",
    "    team_names.to_csv(careerNames_path, index=True, sep=',')\n",
    "    print('Data is successfully sorted out\\n\\n')\n",
    "    return\n",
    "\n",
    "season_target = '2018/2019'\n",
    "team_target = ['Manchester City FC', 'Liverpool FC','Chelsea FC', 'Cardiff City FC', 'Fulham FC', 'Huddersfield Town FC' ]\n",
    "for team in team_target:\n",
    "    data_select(team, season_target)"
   ]
  },
  {
   "cell_type": "code",
   "execution_count": null,
   "metadata": {},
   "outputs": [],
   "source": []
  }
 ],
 "metadata": {
  "kernelspec": {
   "display_name": "Python 3",
   "language": "python",
   "name": "python3"
  },
  "language_info": {
   "codemirror_mode": {
    "name": "ipython",
    "version": 3
   },
   "file_extension": ".py",
   "mimetype": "text/x-python",
   "name": "python",
   "nbconvert_exporter": "python",
   "pygments_lexer": "ipython3",
   "version": "3.7.6"
  }
 },
 "nbformat": 4,
 "nbformat_minor": 4
}
