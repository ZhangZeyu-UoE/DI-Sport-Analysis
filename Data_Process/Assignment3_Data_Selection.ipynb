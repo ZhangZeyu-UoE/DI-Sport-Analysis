{
 "cells": [
  {
   "cell_type": "code",
   "execution_count": 20,
   "metadata": {},
   "outputs": [],
   "source": [
    "# Necessary import\n",
    "import os\n",
    "import csv\n",
    "import pandas as pd\n",
    "import numpy as np\n",
    "import matplotlib.pyplot as plt\n",
    "import seaborn as sns\n",
    "import re\n",
    "%matplotlib inline"
   ]
  },
  {
   "cell_type": "code",
   "execution_count": 41,
   "metadata": {},
   "outputs": [],
   "source": [
    "# find paths of the datases\n",
    "person_path = os.path.abspath(os.path.join(os.getcwd(), \"../..\")) + '/sport_datasets/' + 'person.csv'\n",
    "membership_path = os.path.abspath(os.path.join(os.getcwd(), \"../..\")) + '/sport_datasets/' + 'membership.csv'\n",
    "stat_path = os.path.abspath(os.path.join(os.getcwd(), \"../..\")) + '/sport_datasets/' + 'stat.csv'"
   ]
  },
  {
   "cell_type": "code",
   "execution_count": 42,
   "metadata": {},
   "outputs": [],
   "source": [
    "# load data from datasets\n",
    "person = pd.read_csv(person_path)\n",
    "membership = pd.read_csv(membership_path)\n",
    "stat = pd.read_csv(stat_path)"
   ]
  },
  {
   "cell_type": "code",
   "execution_count": 43,
   "metadata": {},
   "outputs": [
    {
     "data": {
      "text/html": [
       "<div>\n",
       "<style scoped>\n",
       "    .dataframe tbody tr th:only-of-type {\n",
       "        vertical-align: middle;\n",
       "    }\n",
       "\n",
       "    .dataframe tbody tr th {\n",
       "        vertical-align: top;\n",
       "    }\n",
       "\n",
       "    .dataframe thead th {\n",
       "        text-align: right;\n",
       "    }\n",
       "</style>\n",
       "<table border=\"1\" class=\"dataframe\">\n",
       "  <thead>\n",
       "    <tr style=\"text-align: right;\">\n",
       "      <th></th>\n",
       "      <th>id</th>\n",
       "      <th>firstName</th>\n",
       "      <th>lastName</th>\n",
       "      <th>matchName</th>\n",
       "      <th>type</th>\n",
       "      <th>position</th>\n",
       "      <th>lastUpdated</th>\n",
       "      <th>nationality</th>\n",
       "      <th>nationalityId</th>\n",
       "      <th>dateOfBirth</th>\n",
       "      <th>placeOfBirth</th>\n",
       "      <th>countryOfBirthId</th>\n",
       "      <th>countryOfBirth</th>\n",
       "      <th>height</th>\n",
       "      <th>weight</th>\n",
       "      <th>gender</th>\n",
       "      <th>status</th>\n",
       "      <th>foot</th>\n",
       "    </tr>\n",
       "  </thead>\n",
       "  <tbody>\n",
       "    <tr>\n",
       "      <th>0</th>\n",
       "      <td>dkh5rfgsoiovvuackx9o5svrp</td>\n",
       "      <td>Dawid</td>\n",
       "      <td>Smug</td>\n",
       "      <td>D. Smug</td>\n",
       "      <td>player</td>\n",
       "      <td>Goalkeeper</td>\n",
       "      <td>2018-11-17T18:58:14Z</td>\n",
       "      <td>Poland</td>\n",
       "      <td>27baqb7359ywdvsxxklx1kn11</td>\n",
       "      <td>1994-01-14</td>\n",
       "      <td>Konin</td>\n",
       "      <td>27baqb7359ywdvsxxklx1kn11</td>\n",
       "      <td>Poland</td>\n",
       "      <td>194.0</td>\n",
       "      <td>85.0</td>\n",
       "      <td>Male</td>\n",
       "      <td>active</td>\n",
       "      <td>NaN</td>\n",
       "    </tr>\n",
       "    <tr>\n",
       "      <th>1</th>\n",
       "      <td>2m1fi26tv277k17l9v89uux1x</td>\n",
       "      <td>Sadiq</td>\n",
       "      <td>Quliyev</td>\n",
       "      <td>S. Quliyev</td>\n",
       "      <td>player</td>\n",
       "      <td>Defender</td>\n",
       "      <td>2018-12-09T12:31:37Z</td>\n",
       "      <td>Azerbaijan</td>\n",
       "      <td>52sufqqq7vid3xa6iljx6obcz</td>\n",
       "      <td>1995-03-09</td>\n",
       "      <td>NaN</td>\n",
       "      <td>52sufqqq7vid3xa6iljx6obcz</td>\n",
       "      <td>Azerbaijan</td>\n",
       "      <td>NaN</td>\n",
       "      <td>NaN</td>\n",
       "      <td>Male</td>\n",
       "      <td>active</td>\n",
       "      <td>NaN</td>\n",
       "    </tr>\n",
       "    <tr>\n",
       "      <th>2</th>\n",
       "      <td>5ojtb45gyd00i0chyku6btuxh</td>\n",
       "      <td>Jaime José</td>\n",
       "      <td>Moreno Ciorciari</td>\n",
       "      <td>J. Moreno</td>\n",
       "      <td>player</td>\n",
       "      <td>Attacker</td>\n",
       "      <td>2018-12-10T05:46:18Z</td>\n",
       "      <td>Nicaragua</td>\n",
       "      <td>4of7fctqcqbj3rai95vd4jk26</td>\n",
       "      <td>1995-03-30</td>\n",
       "      <td>Puerto La Cruz</td>\n",
       "      <td>1er0616j12s9yghuzvsx76d5v</td>\n",
       "      <td>Venezuela</td>\n",
       "      <td>183.0</td>\n",
       "      <td>82.0</td>\n",
       "      <td>Male</td>\n",
       "      <td>active</td>\n",
       "      <td>NaN</td>\n",
       "    </tr>\n",
       "    <tr>\n",
       "      <th>3</th>\n",
       "      <td>2w0vvlgz7ib4f2dvkinycj55h</td>\n",
       "      <td>Leandro</td>\n",
       "      <td>Leite Mateus</td>\n",
       "      <td>Leandro Leite</td>\n",
       "      <td>player</td>\n",
       "      <td>Midfielder</td>\n",
       "      <td>2018-11-24T20:01:10Z</td>\n",
       "      <td>Brazil</td>\n",
       "      <td>2vufyvpoxd9lfl9f6vpp7tz6y</td>\n",
       "      <td>1982-12-27</td>\n",
       "      <td>Piracanjuba</td>\n",
       "      <td>2vufyvpoxd9lfl9f6vpp7tz6y</td>\n",
       "      <td>Brazil</td>\n",
       "      <td>181.0</td>\n",
       "      <td>75.0</td>\n",
       "      <td>Male</td>\n",
       "      <td>active</td>\n",
       "      <td>right</td>\n",
       "    </tr>\n",
       "    <tr>\n",
       "      <th>4</th>\n",
       "      <td>eyas8ovmtmcmkilzd9lox4hxx</td>\n",
       "      <td>Sergey</td>\n",
       "      <td>Balanovich</td>\n",
       "      <td>S. Balanovich</td>\n",
       "      <td>player</td>\n",
       "      <td>Midfielder</td>\n",
       "      <td>2018-12-02T15:31:47Z</td>\n",
       "      <td>Belarus</td>\n",
       "      <td>2vn7xzv9g752y1h5ufjzr27i8</td>\n",
       "      <td>1987-08-29</td>\n",
       "      <td>Pinsk</td>\n",
       "      <td>2vn7xzv9g752y1h5ufjzr27i8</td>\n",
       "      <td>Belarus</td>\n",
       "      <td>176.0</td>\n",
       "      <td>70.0</td>\n",
       "      <td>Male</td>\n",
       "      <td>active</td>\n",
       "      <td>right</td>\n",
       "    </tr>\n",
       "  </tbody>\n",
       "</table>\n",
       "</div>"
      ],
      "text/plain": [
       "                          id   firstName          lastName      matchName  \\\n",
       "0  dkh5rfgsoiovvuackx9o5svrp       Dawid              Smug        D. Smug   \n",
       "1  2m1fi26tv277k17l9v89uux1x       Sadiq           Quliyev     S. Quliyev   \n",
       "2  5ojtb45gyd00i0chyku6btuxh  Jaime José  Moreno Ciorciari      J. Moreno   \n",
       "3  2w0vvlgz7ib4f2dvkinycj55h     Leandro      Leite Mateus  Leandro Leite   \n",
       "4  eyas8ovmtmcmkilzd9lox4hxx      Sergey        Balanovich  S. Balanovich   \n",
       "\n",
       "     type    position           lastUpdated nationality  \\\n",
       "0  player  Goalkeeper  2018-11-17T18:58:14Z      Poland   \n",
       "1  player    Defender  2018-12-09T12:31:37Z  Azerbaijan   \n",
       "2  player    Attacker  2018-12-10T05:46:18Z   Nicaragua   \n",
       "3  player  Midfielder  2018-11-24T20:01:10Z      Brazil   \n",
       "4  player  Midfielder  2018-12-02T15:31:47Z     Belarus   \n",
       "\n",
       "               nationalityId dateOfBirth    placeOfBirth  \\\n",
       "0  27baqb7359ywdvsxxklx1kn11  1994-01-14           Konin   \n",
       "1  52sufqqq7vid3xa6iljx6obcz  1995-03-09             NaN   \n",
       "2  4of7fctqcqbj3rai95vd4jk26  1995-03-30  Puerto La Cruz   \n",
       "3  2vufyvpoxd9lfl9f6vpp7tz6y  1982-12-27     Piracanjuba   \n",
       "4  2vn7xzv9g752y1h5ufjzr27i8  1987-08-29           Pinsk   \n",
       "\n",
       "            countryOfBirthId countryOfBirth  height  weight gender  status  \\\n",
       "0  27baqb7359ywdvsxxklx1kn11         Poland   194.0    85.0   Male  active   \n",
       "1  52sufqqq7vid3xa6iljx6obcz     Azerbaijan     NaN     NaN   Male  active   \n",
       "2  1er0616j12s9yghuzvsx76d5v      Venezuela   183.0    82.0   Male  active   \n",
       "3  2vufyvpoxd9lfl9f6vpp7tz6y         Brazil   181.0    75.0   Male  active   \n",
       "4  2vn7xzv9g752y1h5ufjzr27i8        Belarus   176.0    70.0   Male  active   \n",
       "\n",
       "    foot  \n",
       "0    NaN  \n",
       "1    NaN  \n",
       "2    NaN  \n",
       "3  right  \n",
       "4  right  "
      ]
     },
     "execution_count": 43,
     "metadata": {},
     "output_type": "execute_result"
    }
   ],
   "source": [
    "person.head()"
   ]
  },
  {
   "cell_type": "markdown",
   "metadata": {},
   "source": [
    "# Clean person.csv"
   ]
  },
  {
   "cell_type": "code",
   "execution_count": 44,
   "metadata": {},
   "outputs": [
    {
     "name": "stdout",
     "output_type": "stream",
     "text": [
      "The number of remaining rows is 44201\n",
      "The duplicates are dropped, the shape afterward is (44200, 18).\n"
     ]
    }
   ],
   "source": [
    "person = person.loc[person['type'] == 'player']\n",
    "print('The number of remaining rows is {}'.format(person.shape[0]))\n",
    "person = person.drop_duplicates()\n",
    "print('The duplicates are dropped, the shape afterward is {}.'.format(person.shape))"
   ]
  },
  {
   "cell_type": "code",
   "execution_count": 45,
   "metadata": {},
   "outputs": [],
   "source": [
    "person['dateOfBirth'] = pd.to_datetime(person['dateOfBirth'])\n",
    "person['lastUpdated'] = pd.to_datetime(person['lastUpdated'])\n",
    "# person.head()"
   ]
  },
  {
   "cell_type": "code",
   "execution_count": 46,
   "metadata": {},
   "outputs": [],
   "source": [
    "# add a column about the ages.\n",
    "person['age'] = 2020 - person['dateOfBirth'].dt.year\n",
    "\n",
    "# add a column about the year of late update.\n",
    "person['lastUpdated_year'] = person['lastUpdated'].dt.year\n",
    "\n",
    "# distplot of ages\n",
    "# chart = sns.distplot(person['age'])\n",
    "# chart.set_title('Ages Distribution')\n",
    "\n",
    "# person.describe()"
   ]
  },
  {
   "cell_type": "markdown",
   "metadata": {},
   "source": [
    "# Clean membership.csv"
   ]
  },
  {
   "cell_type": "code",
   "execution_count": 47,
   "metadata": {},
   "outputs": [
    {
     "name": "stdout",
     "output_type": "stream",
     "text": [
      "The shape afterward is (250305, 10).\n"
     ]
    }
   ],
   "source": [
    "membership = membership.drop_duplicates()\n",
    "membership = membership.loc[membership['role']=='player']\n",
    "print('The shape afterward is {}.'.format(membership.shape))"
   ]
  },
  {
   "cell_type": "code",
   "execution_count": 48,
   "metadata": {},
   "outputs": [
    {
     "name": "stdout",
     "output_type": "stream",
     "text": [
      "There are 247915 rows left\n"
     ]
    }
   ],
   "source": [
    "membership.loc[membership['active']=='yes', 'endDate'] = '2019-1-1'\n",
    "membership = membership.dropna(subset = ['endDate']) # drop nan data\n",
    "print('There are {} rows left'.format(membership.shape[0]))\n",
    "# membership.head()"
   ]
  },
  {
   "cell_type": "code",
   "execution_count": 49,
   "metadata": {},
   "outputs": [],
   "source": [
    "#membership.loc[membership['endDate']=='201-05-04']\n",
    "membership.loc[membership['startDate']=='0201-05-04', 'startDate'] = '2010-05-04'\n",
    "membership.loc[membership['startDate']=='0011-01-01', 'startDate'] = '2011-01-01'\n",
    "\n",
    "membership.loc[membership['endDate']=='0010-12-30', 'endDate'] = '2010-12-30'\n",
    "membership.loc[membership['endDate']=='0201-04-15', 'endDate'] = '2010-04-15'\n",
    "membership.loc[membership['endDate']=='0204-08-01', 'endDate'] = '2004-08-01'\n",
    "\n",
    "membership['startDate'] = pd.to_datetime(membership['startDate'])\n",
    "membership['endDate'] = pd.to_datetime(membership['endDate'])\n",
    "# membership.head()"
   ]
  },
  {
   "cell_type": "markdown",
   "metadata": {},
   "source": [
    "# Clean stat.csv"
   ]
  },
  {
   "cell_type": "code",
   "execution_count": 50,
   "metadata": {},
   "outputs": [
    {
     "name": "stdout",
     "output_type": "stream",
     "text": [
      "The shape afterward is (750230, 19).\n"
     ]
    }
   ],
   "source": [
    "stat = stat.drop_duplicates()\n",
    "print('The shape afterward is {}.'.format(stat.shape))"
   ]
  },
  {
   "cell_type": "code",
   "execution_count": 51,
   "metadata": {},
   "outputs": [],
   "source": [
    "stat.loc[stat['penaltyGoals'] == 58, 'penaltyGoals'] = 0"
   ]
  },
  {
   "cell_type": "code",
   "execution_count": 52,
   "metadata": {},
   "outputs": [],
   "source": [
    "stat.loc[stat['minutesPlayed'] < 0, 'minutesPlayed'] =  abs(stat['minutesPlayed'])"
   ]
  },
  {
   "cell_type": "markdown",
   "metadata": {},
   "source": [
    "# Select Data"
   ]
  },
  {
   "cell_type": "code",
   "execution_count": 53,
   "metadata": {},
   "outputs": [],
   "source": [
    "#!/user/local/bin/python2.7\n",
    "# -*- coding:utf-8 -*-\n",
    "import os\n",
    "def mkdir(path):\n",
    "    # remove space\n",
    "    path=path.replace(' ','')\n",
    "    # remove \\\\\n",
    "    path=path.rstrip(\"\\\\\")\n",
    "    # check if path exists\n",
    "    isExists=os.path.exists(path)\n",
    "    \n",
    "    if not isExists:\n",
    "        # if does not exist, create the folder\n",
    "        '''\n",
    "        os.mkdir(path)与os.makedirs(path)的区别是,当父目录不存在的时候os.mkdir(path)不会创建，os.makedirs(path)则会创建父目录\n",
    "        '''\n",
    "        #coding as utf-8\n",
    "        os.makedirs(path) \n",
    "        print (path+'is successfully created')\n",
    "        return True\n",
    "    else:\n",
    "        # if exists, create nothing\n",
    "        print (path+' already exists')\n",
    "        return False"
   ]
  },
  {
   "cell_type": "code",
   "execution_count": 54,
   "metadata": {},
   "outputs": [],
   "source": [
    "def team_select(team, season):\n",
    "    year = int(season[0:4])\n",
    "    \n",
    "    # select membership\n",
    "    membership_team = membership.loc[(membership['contestantName'] == team)&((membership['startDate'].dt.year <= year)&(membership['endDate'].dt.year > year))]\n",
    "    \n",
    "    # select players\n",
    "    person_team = person.loc[person['id'].isin(membership_team['id'])]\n",
    "    \n",
    "    # adjust player ages for the selected season\n",
    "    person_team['age'] = person_team['age'] - (2020 - int(season[5:9]))\n",
    "    \n",
    "    # select stats\n",
    "    stat_team = stat.loc[(stat['id'].isin(membership_team['id'])) & ((stat['tournamentCalendarName'] == season)|(stat['tournamentCalendarName'] == season[5:9]))&(stat['isFriendly'] == 'no')]\n",
    "    \n",
    "    # set minutes played for team members\n",
    "    person_team['minutesPlayed'] = person_team.id.apply(lambda x: np.sum(stat_team.loc[stat_team['id'] == x]['minutesPlayed']))\n",
    "    \n",
    "    # select 16 players (at most)\n",
    "    time_sort = np.sort(person_team['minutesPlayed'])\n",
    "    time_sort = time_sort[::-1]\n",
    "    if time_sort.shape[0] >= 16:\n",
    "        team_size = 16\n",
    "    else:\n",
    "        team_size = time_sort.shape[0]\n",
    "\n",
    "    person_team = person_team.loc[person_team['minutesPlayed'] >= time_sort[team_size-1]]\n",
    "    \n",
    "    # sort players by nationality\n",
    "    group_nation = person_team.groupby('nationality')\n",
    "    p = pd.DataFrame()\n",
    "    for group_name, group_df in group_nation:\n",
    "        p = pd.concat([p,group_df])\n",
    "    person_team = p\n",
    "    \n",
    "    # update membership and stat\n",
    "    membership_team = membership.loc[membership['id'].isin(person_team['id'])]\n",
    "    stat_team = stat_team.loc[stat_team['id'].isin(person_team['id'])]\n",
    "    \n",
    "    # select all the club memberships\n",
    "    membership_team = membership_team.loc[membership_team['contestantType'] == 'club']\n",
    "    \n",
    "    return membership_team, person_team, stat_team"
   ]
  },
  {
   "cell_type": "code",
   "execution_count": 55,
   "metadata": {},
   "outputs": [],
   "source": [
    "def career_search(person, membership, season):\n",
    "    seasons = [season]\n",
    "    for i in range(1,10):\n",
    "        year = int(season[5:9])-i\n",
    "        s = str(year-1) + '/' + str(year)\n",
    "        seasons.append(s)\n",
    "    seasons = seasons[::-1]\n",
    "    print('The seasons are from {} to {}'.format(seasons[0], seasons[9]))\n",
    "    \n",
    "    # filter membership\n",
    "    start = int(seasons[0][0:4])\n",
    "    end = int(seasons[9][5:9])\n",
    "    membership = membership.loc[((membership['startDate'].dt.year >= start)&(membership['startDate'].dt.year <= end))|((membership['endDate'].dt.year >= start)&(membership['endDate'].dt.year <= end))]\n",
    "    # print(membership['contestantName'].unique())\n",
    "    \n",
    "    col = np.append(['matchName'],seasons)\n",
    "    career_paths = pd.DataFrame(columns = col) \n",
    "    team_names = []\n",
    "    for i in person['id'].values:\n",
    "        career = {'matchName': person.loc[person['id'] == i]['matchName'].values[0]}\n",
    "        for s in seasons:\n",
    "            year = int(s[0:4])\n",
    "            m = membership.loc[(membership['id'] == i) & ((membership['startDate'].dt.year <= year) & (membership['endDate'].dt.year > year))]\n",
    "            # print(m)\n",
    "            m_name = m['contestantName'].values\n",
    "            m_type = m['transferType'].values\n",
    "            \n",
    "            if m_name.shape[0]>1:\n",
    "                m_name = m_name[0:1]\n",
    "                \n",
    "            if m_type.shape[0]>1:\n",
    "                m_type = m_type[0:1]\n",
    "                \n",
    "            if m_name.shape[0]>=1:\n",
    "                team_names.append(m_name[0])\n",
    "            # print(m_name, m_type)\n",
    "            if len(m_name) == 0:\n",
    "                career[s] = '/'\n",
    "            else:\n",
    "                career[s] = str(m_name[0]) + ' (' + str(m_type[0]) + ')'\n",
    "        career_paths = career_paths.append(career,ignore_index=True)\n",
    "        # print(career)\n",
    "        \n",
    "    # transfer team_names into Series    \n",
    "    # print(team_names)\n",
    "    team_names = pd.Series(pd.Series(team_names).unique())\n",
    "    return career_paths, team_names"
   ]
  },
  {
   "cell_type": "code",
   "execution_count": 58,
   "metadata": {},
   "outputs": [
    {
     "name": "stdout",
     "output_type": "stream",
     "text": [
      "Selecting data about Manchester City FC in season 2018/2019 ...\n"
     ]
    },
    {
     "name": "stderr",
     "output_type": "stream",
     "text": [
      "/Users/zzy/opt/anaconda3/envs/py3iaml/lib/python3.7/site-packages/ipykernel_launcher.py:11: SettingWithCopyWarning: \n",
      "A value is trying to be set on a copy of a slice from a DataFrame.\n",
      "Try using .loc[row_indexer,col_indexer] = value instead\n",
      "\n",
      "See the caveats in the documentation: http://pandas.pydata.org/pandas-docs/stable/indexing.html#indexing-view-versus-copy\n",
      "  # This is added back by InteractiveShellApp.init_path()\n",
      "/Users/zzy/opt/anaconda3/envs/py3iaml/lib/python3.7/site-packages/ipykernel_launcher.py:17: SettingWithCopyWarning: \n",
      "A value is trying to be set on a copy of a slice from a DataFrame.\n",
      "Try using .loc[row_indexer,col_indexer] = value instead\n",
      "\n",
      "See the caveats in the documentation: http://pandas.pydata.org/pandas-docs/stable/indexing.html#indexing-view-versus-copy\n"
     ]
    },
    {
     "name": "stdout",
     "output_type": "stream",
     "text": [
      "The seasons are from 2009/2010 to 2018/2019\n",
      "../Data_Selected/ManchesterCityFC_2019 already exists\n",
      "Data is successfully sorted out\n",
      "\n",
      "\n",
      "Selecting data about Liverpool FC in season 2018/2019 ...\n",
      "The seasons are from 2009/2010 to 2018/2019\n",
      "../Data_Selected/LiverpoolFC_2019 already exists\n",
      "Data is successfully sorted out\n",
      "\n",
      "\n",
      "Selecting data about Chelsea FC in season 2018/2019 ...\n",
      "The seasons are from 2009/2010 to 2018/2019\n",
      "../Data_Selected/ChelseaFC_2019 already exists\n",
      "Data is successfully sorted out\n",
      "\n",
      "\n",
      "Selecting data about Cardiff City FC in season 2018/2019 ...\n",
      "The seasons are from 2009/2010 to 2018/2019\n",
      "../Data_Selected/CardiffCityFC_2019 already exists\n",
      "Data is successfully sorted out\n",
      "\n",
      "\n",
      "Selecting data about Fulham FC in season 2018/2019 ...\n",
      "The seasons are from 2009/2010 to 2018/2019\n",
      "../Data_Selected/FulhamFC_2019 already exists\n",
      "Data is successfully sorted out\n",
      "\n",
      "\n",
      "Selecting data about Huddersfield Town FC in season 2018/2019 ...\n",
      "The seasons are from 2009/2010 to 2018/2019\n",
      "../Data_Selected/HuddersfieldTownFC_2019 already exists\n",
      "Data is successfully sorted out\n",
      "\n",
      "\n"
     ]
    }
   ],
   "source": [
    "def data_select(team, season):\n",
    "    print('Selecting data about {} in season {} ...'.format(team, season))\n",
    "    membership_team, person_team, stat_team = team_select(team, season)\n",
    "    career_paths, team_names = career_search(person_team, membership_team, season)\n",
    "    \n",
    "    # output into csv files\n",
    "    \n",
    "    # create a folder\n",
    "    folder_path = '../Data_Selected/' + team + '_' + season[5:9]\n",
    "    mkdir(folder_path)\n",
    "    \n",
    "    person_path = folder_path + '/' + \"person_\" + team + \"_\" + season[5:9] + \".csv\"\n",
    "    careerPath_path = folder_path + '/' + \"careerPath_\" + team + \"_\" + season[5:9] + \".csv\"\n",
    "    careerNames_path = folder_path + '/' + \"careerNames_\" + team + \"_\" + season[5:9] + \".csv\"\n",
    "    person_path = person_path.replace(\" \", \"\")\n",
    "    careerPath_path = careerPath_path.replace(\" \", \"\")\n",
    "    careerNames_path = careerNames_path.replace(\" \", \"\")\n",
    "    # print(person_path)\n",
    "    person_team.to_csv(person_path, index=True, sep=',')\n",
    "    career_paths.to_csv(careerPath_path, index=True, sep=',')\n",
    "    team_names.to_csv(careerNames_path, index=True, sep=',')\n",
    "    print('Data is successfully sorted out\\n\\n')\n",
    "    return\n",
    "\n",
    "season_target = '2018/2019'\n",
    "team_target = ['Manchester City FC', 'Liverpool FC','Chelsea FC', 'Cardiff City FC', 'Fulham FC', 'Huddersfield Town FC' ]\n",
    "for team in team_target:\n",
    "    data_select(team, season_target)"
   ]
  },
  {
   "cell_type": "code",
   "execution_count": null,
   "metadata": {},
   "outputs": [],
   "source": []
  }
 ],
 "metadata": {
  "kernelspec": {
   "display_name": "Python 3",
   "language": "python",
   "name": "python3"
  },
  "language_info": {
   "codemirror_mode": {
    "name": "ipython",
    "version": 3
   },
   "file_extension": ".py",
   "mimetype": "text/x-python",
   "name": "python",
   "nbconvert_exporter": "python",
   "pygments_lexer": "ipython3",
   "version": "3.7.7"
  }
 },
 "nbformat": 4,
 "nbformat_minor": 4
}
